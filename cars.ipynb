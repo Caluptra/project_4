{
 "cells": [
  {
   "cell_type": "markdown",
   "metadata": {},
   "source": [
    "Сервис по продаже автомобилей с пробегом «Не бит, не крашен» разрабатывает приложение для привлечения новых клиентов. В нём можно быстро узнать рыночную стоимость своего автомобиля. В вашем распоряжении исторические данные: технические характеристики, комплектации и цены автомобилей. Вам нужно построить модель для определения стоимости. \n",
    "\n",
    "Заказчику важны:\n",
    "\n",
    "- качество предсказания;\n",
    "- скорость предсказания;\n",
    "- время обучения."
   ]
  },
  {
   "cell_type": "markdown",
   "metadata": {},
   "source": [
    "# 1. Подготовка данных"
   ]
  },
  {
   "cell_type": "code",
   "execution_count": 1,
   "metadata": {},
   "outputs": [],
   "source": [
    "import pandas as pd\n",
    "from catboost import CatBoostRegressor\n",
    "from sklearn.model_selection import train_test_split\n",
    "from sklearn.metrics import mean_squared_error\n",
    "from lightgbm import LGBMRegressor\n",
    "import timeit\n",
    "from sklearn.dummy import DummyRegressor\n",
    "from sklearn.linear_model import LinearRegression\n",
    "from sklearn.model_selection import GridSearchCV"
   ]
  },
  {
   "cell_type": "markdown",
   "metadata": {},
   "source": [
    "<div class=\"alert alert-block alert-success\">\n",
    "<b>Успех:</b> Отлично, что все импорты собраны в первой ячейке ноутбука! Если у того, кто будет запускать твой ноутбук будут отсутствовать некоторые библиотеки, то он это увидит сразу, а не в процессе!\n",
    "</div>"
   ]
  },
  {
   "cell_type": "code",
   "execution_count": 2,
   "metadata": {},
   "outputs": [
    {
     "name": "stdout",
     "output_type": "stream",
     "text": [
      "<class 'pandas.core.frame.DataFrame'>\n",
      "RangeIndex: 354369 entries, 0 to 354368\n",
      "Data columns (total 16 columns):\n",
      "DateCrawled          354369 non-null object\n",
      "Price                354369 non-null int64\n",
      "VehicleType          316879 non-null object\n",
      "RegistrationYear     354369 non-null int64\n",
      "Gearbox              334536 non-null object\n",
      "Power                354369 non-null int64\n",
      "Model                334664 non-null object\n",
      "Kilometer            354369 non-null int64\n",
      "RegistrationMonth    354369 non-null int64\n",
      "FuelType             321474 non-null object\n",
      "Brand                354369 non-null object\n",
      "NotRepaired          283215 non-null object\n",
      "DateCreated          354369 non-null object\n",
      "NumberOfPictures     354369 non-null int64\n",
      "PostalCode           354369 non-null int64\n",
      "LastSeen             354369 non-null object\n",
      "dtypes: int64(7), object(9)\n",
      "memory usage: 43.3+ MB\n"
     ]
    }
   ],
   "source": [
    "data = pd.read_csv('/datasets/autos.csv')\n",
    "data.info()"
   ]
  },
  {
   "cell_type": "code",
   "execution_count": 3,
   "metadata": {},
   "outputs": [],
   "source": [
    "data['time_in_use'] = pd.DatetimeIndex(data['DateCreated']).year - data['RegistrationYear']"
   ]
  },
  {
   "cell_type": "markdown",
   "metadata": {},
   "source": [
    "графа показывающею сколько лет машина была на учете до выставления на продажу"
   ]
  },
  {
   "cell_type": "code",
   "execution_count": 4,
   "metadata": {},
   "outputs": [
    {
     "data": {
      "text/html": [
       "<div>\n",
       "<style scoped>\n",
       "    .dataframe tbody tr th:only-of-type {\n",
       "        vertical-align: middle;\n",
       "    }\n",
       "\n",
       "    .dataframe tbody tr th {\n",
       "        vertical-align: top;\n",
       "    }\n",
       "\n",
       "    .dataframe thead th {\n",
       "        text-align: right;\n",
       "    }\n",
       "</style>\n",
       "<table border=\"1\" class=\"dataframe\">\n",
       "  <thead>\n",
       "    <tr style=\"text-align: right;\">\n",
       "      <th></th>\n",
       "      <th>Price</th>\n",
       "      <th>RegistrationYear</th>\n",
       "      <th>Power</th>\n",
       "      <th>Kilometer</th>\n",
       "      <th>RegistrationMonth</th>\n",
       "      <th>NumberOfPictures</th>\n",
       "      <th>PostalCode</th>\n",
       "      <th>time_in_use</th>\n",
       "    </tr>\n",
       "  </thead>\n",
       "  <tbody>\n",
       "    <tr>\n",
       "      <td>count</td>\n",
       "      <td>354369.000000</td>\n",
       "      <td>354369.000000</td>\n",
       "      <td>354369.000000</td>\n",
       "      <td>354369.000000</td>\n",
       "      <td>354369.000000</td>\n",
       "      <td>354369.0</td>\n",
       "      <td>354369.000000</td>\n",
       "      <td>354369.000000</td>\n",
       "    </tr>\n",
       "    <tr>\n",
       "      <td>mean</td>\n",
       "      <td>4416.656776</td>\n",
       "      <td>2004.234448</td>\n",
       "      <td>110.094337</td>\n",
       "      <td>128211.172535</td>\n",
       "      <td>5.714645</td>\n",
       "      <td>0.0</td>\n",
       "      <td>50508.689087</td>\n",
       "      <td>11.765476</td>\n",
       "    </tr>\n",
       "    <tr>\n",
       "      <td>std</td>\n",
       "      <td>4514.158514</td>\n",
       "      <td>90.227958</td>\n",
       "      <td>189.850405</td>\n",
       "      <td>37905.341530</td>\n",
       "      <td>3.726421</td>\n",
       "      <td>0.0</td>\n",
       "      <td>25783.096248</td>\n",
       "      <td>90.227958</td>\n",
       "    </tr>\n",
       "    <tr>\n",
       "      <td>min</td>\n",
       "      <td>0.000000</td>\n",
       "      <td>1000.000000</td>\n",
       "      <td>0.000000</td>\n",
       "      <td>5000.000000</td>\n",
       "      <td>0.000000</td>\n",
       "      <td>0.0</td>\n",
       "      <td>1067.000000</td>\n",
       "      <td>-7983.000000</td>\n",
       "    </tr>\n",
       "    <tr>\n",
       "      <td>25%</td>\n",
       "      <td>1050.000000</td>\n",
       "      <td>1999.000000</td>\n",
       "      <td>69.000000</td>\n",
       "      <td>125000.000000</td>\n",
       "      <td>3.000000</td>\n",
       "      <td>0.0</td>\n",
       "      <td>30165.000000</td>\n",
       "      <td>8.000000</td>\n",
       "    </tr>\n",
       "    <tr>\n",
       "      <td>50%</td>\n",
       "      <td>2700.000000</td>\n",
       "      <td>2003.000000</td>\n",
       "      <td>105.000000</td>\n",
       "      <td>150000.000000</td>\n",
       "      <td>6.000000</td>\n",
       "      <td>0.0</td>\n",
       "      <td>49413.000000</td>\n",
       "      <td>13.000000</td>\n",
       "    </tr>\n",
       "    <tr>\n",
       "      <td>75%</td>\n",
       "      <td>6400.000000</td>\n",
       "      <td>2008.000000</td>\n",
       "      <td>143.000000</td>\n",
       "      <td>150000.000000</td>\n",
       "      <td>9.000000</td>\n",
       "      <td>0.0</td>\n",
       "      <td>71083.000000</td>\n",
       "      <td>17.000000</td>\n",
       "    </tr>\n",
       "    <tr>\n",
       "      <td>max</td>\n",
       "      <td>20000.000000</td>\n",
       "      <td>9999.000000</td>\n",
       "      <td>20000.000000</td>\n",
       "      <td>150000.000000</td>\n",
       "      <td>12.000000</td>\n",
       "      <td>0.0</td>\n",
       "      <td>99998.000000</td>\n",
       "      <td>1016.000000</td>\n",
       "    </tr>\n",
       "  </tbody>\n",
       "</table>\n",
       "</div>"
      ],
      "text/plain": [
       "               Price  RegistrationYear          Power      Kilometer  \\\n",
       "count  354369.000000     354369.000000  354369.000000  354369.000000   \n",
       "mean     4416.656776       2004.234448     110.094337  128211.172535   \n",
       "std      4514.158514         90.227958     189.850405   37905.341530   \n",
       "min         0.000000       1000.000000       0.000000    5000.000000   \n",
       "25%      1050.000000       1999.000000      69.000000  125000.000000   \n",
       "50%      2700.000000       2003.000000     105.000000  150000.000000   \n",
       "75%      6400.000000       2008.000000     143.000000  150000.000000   \n",
       "max     20000.000000       9999.000000   20000.000000  150000.000000   \n",
       "\n",
       "       RegistrationMonth  NumberOfPictures     PostalCode    time_in_use  \n",
       "count      354369.000000          354369.0  354369.000000  354369.000000  \n",
       "mean            5.714645               0.0   50508.689087      11.765476  \n",
       "std             3.726421               0.0   25783.096248      90.227958  \n",
       "min             0.000000               0.0    1067.000000   -7983.000000  \n",
       "25%             3.000000               0.0   30165.000000       8.000000  \n",
       "50%             6.000000               0.0   49413.000000      13.000000  \n",
       "75%             9.000000               0.0   71083.000000      17.000000  \n",
       "max            12.000000               0.0   99998.000000    1016.000000  "
      ]
     },
     "execution_count": 4,
     "metadata": {},
     "output_type": "execute_result"
    }
   ],
   "source": [
    "data.describe()"
   ]
  },
  {
   "cell_type": "code",
   "execution_count": 5,
   "metadata": {},
   "outputs": [],
   "source": [
    "data = data.drop(data[data['time_in_use']<0].index)"
   ]
  },
  {
   "cell_type": "markdown",
   "metadata": {},
   "source": [
    "удалил те графы, где машина была поставленна на учет после выставления объявления"
   ]
  },
  {
   "cell_type": "code",
   "execution_count": 6,
   "metadata": {},
   "outputs": [],
   "source": [
    "data = data.drop(data[data['RegistrationYear'] <1920].index)"
   ]
  },
  {
   "cell_type": "code",
   "execution_count": 7,
   "metadata": {},
   "outputs": [],
   "source": [
    "data = data.drop(data[data['RegistrationYear'] > 2020].index)"
   ]
  },
  {
   "cell_type": "markdown",
   "metadata": {},
   "source": [
    "будем считать машина с датой регистрации до 1920 года выбросами"
   ]
  },
  {
   "cell_type": "code",
   "execution_count": 8,
   "metadata": {},
   "outputs": [
    {
     "data": {
      "text/plain": [
       "count    339670.000000\n",
       "mean       4472.568290\n",
       "std        4546.110422\n",
       "min           0.000000\n",
       "25%        1100.000000\n",
       "50%        2799.000000\n",
       "75%        6500.000000\n",
       "max       20000.000000\n",
       "Name: Price, dtype: float64"
      ]
     },
     "execution_count": 8,
     "metadata": {},
     "output_type": "execute_result"
    }
   ],
   "source": [
    "data['Price'].describe()"
   ]
  },
  {
   "cell_type": "code",
   "execution_count": 9,
   "metadata": {},
   "outputs": [],
   "source": [
    "data = data.drop(data[data['Price']<200].index)"
   ]
  },
  {
   "cell_type": "markdown",
   "metadata": {},
   "source": [
    "удалил те графы, где машина c слишком низкой ценой"
   ]
  },
  {
   "cell_type": "code",
   "execution_count": 10,
   "metadata": {},
   "outputs": [
    {
     "name": "stdout",
     "output_type": "stream",
     "text": [
      "<class 'pandas.core.frame.DataFrame'>\n",
      "Int64Index: 323224 entries, 0 to 354368\n",
      "Data columns (total 17 columns):\n",
      "DateCrawled          323224 non-null object\n",
      "Price                323224 non-null int64\n",
      "VehicleType          323224 non-null object\n",
      "RegistrationYear     323224 non-null int64\n",
      "Gearbox              323224 non-null object\n",
      "Power                323224 non-null int64\n",
      "Model                323224 non-null object\n",
      "Kilometer            323224 non-null int64\n",
      "RegistrationMonth    323224 non-null int64\n",
      "FuelType             323224 non-null object\n",
      "Brand                323224 non-null object\n",
      "NotRepaired          323224 non-null object\n",
      "DateCreated          323224 non-null object\n",
      "NumberOfPictures     323224 non-null int64\n",
      "PostalCode           323224 non-null int64\n",
      "LastSeen             323224 non-null object\n",
      "time_in_use          323224 non-null int64\n",
      "dtypes: int64(8), object(9)\n",
      "memory usage: 44.4+ MB\n"
     ]
    }
   ],
   "source": [
    "data['NotRepaired'] = data['NotRepaired'].fillna('no_info' )\n",
    "data['FuelType'] = data['FuelType'].fillna('no_info' )\n",
    "data['VehicleType'] = data['FuelType'].fillna('no_info' )\n",
    "data['Gearbox'] = data['Gearbox'].fillna('no_info' )\n",
    "data['Model'] = data['Model'].fillna('no_info' )\n",
    "features_no_ohe = data[['RegistrationYear','Power','Kilometer','RegistrationMonth','NumberOfPictures','time_in_use','VehicleType','Gearbox','Model','FuelType','Brand','NotRepaired']]\n",
    "target_no_ohe = data['Price']\n",
    "data.info()"
   ]
  },
  {
   "cell_type": "code",
   "execution_count": 11,
   "metadata": {},
   "outputs": [
    {
     "data": {
      "text/html": [
       "<div>\n",
       "<style scoped>\n",
       "    .dataframe tbody tr th:only-of-type {\n",
       "        vertical-align: middle;\n",
       "    }\n",
       "\n",
       "    .dataframe tbody tr th {\n",
       "        vertical-align: top;\n",
       "    }\n",
       "\n",
       "    .dataframe thead th {\n",
       "        text-align: right;\n",
       "    }\n",
       "</style>\n",
       "<table border=\"1\" class=\"dataframe\">\n",
       "  <thead>\n",
       "    <tr style=\"text-align: right;\">\n",
       "      <th></th>\n",
       "      <th>DateCrawled</th>\n",
       "      <th>Price</th>\n",
       "      <th>VehicleType</th>\n",
       "      <th>RegistrationYear</th>\n",
       "      <th>Gearbox</th>\n",
       "      <th>Power</th>\n",
       "      <th>Model</th>\n",
       "      <th>Kilometer</th>\n",
       "      <th>RegistrationMonth</th>\n",
       "      <th>FuelType</th>\n",
       "      <th>...</th>\n",
       "      <th>Brand_smart</th>\n",
       "      <th>Brand_sonstige_autos</th>\n",
       "      <th>Brand_subaru</th>\n",
       "      <th>Brand_suzuki</th>\n",
       "      <th>Brand_toyota</th>\n",
       "      <th>Brand_trabant</th>\n",
       "      <th>Brand_volkswagen</th>\n",
       "      <th>Brand_volvo</th>\n",
       "      <th>NotRepaired_no_info</th>\n",
       "      <th>NotRepaired_yes</th>\n",
       "    </tr>\n",
       "  </thead>\n",
       "  <tbody>\n",
       "    <tr>\n",
       "      <td>0</td>\n",
       "      <td>2016-03-24 11:52:17</td>\n",
       "      <td>480</td>\n",
       "      <td>petrol</td>\n",
       "      <td>1993</td>\n",
       "      <td>manual</td>\n",
       "      <td>0</td>\n",
       "      <td>golf</td>\n",
       "      <td>150000</td>\n",
       "      <td>0</td>\n",
       "      <td>petrol</td>\n",
       "      <td>...</td>\n",
       "      <td>0</td>\n",
       "      <td>0</td>\n",
       "      <td>0</td>\n",
       "      <td>0</td>\n",
       "      <td>0</td>\n",
       "      <td>0</td>\n",
       "      <td>1</td>\n",
       "      <td>0</td>\n",
       "      <td>1</td>\n",
       "      <td>0</td>\n",
       "    </tr>\n",
       "    <tr>\n",
       "      <td>1</td>\n",
       "      <td>2016-03-24 10:58:45</td>\n",
       "      <td>18300</td>\n",
       "      <td>gasoline</td>\n",
       "      <td>2011</td>\n",
       "      <td>manual</td>\n",
       "      <td>190</td>\n",
       "      <td>no_info</td>\n",
       "      <td>125000</td>\n",
       "      <td>5</td>\n",
       "      <td>gasoline</td>\n",
       "      <td>...</td>\n",
       "      <td>0</td>\n",
       "      <td>0</td>\n",
       "      <td>0</td>\n",
       "      <td>0</td>\n",
       "      <td>0</td>\n",
       "      <td>0</td>\n",
       "      <td>0</td>\n",
       "      <td>0</td>\n",
       "      <td>0</td>\n",
       "      <td>1</td>\n",
       "    </tr>\n",
       "    <tr>\n",
       "      <td>2</td>\n",
       "      <td>2016-03-14 12:52:21</td>\n",
       "      <td>9800</td>\n",
       "      <td>gasoline</td>\n",
       "      <td>2004</td>\n",
       "      <td>auto</td>\n",
       "      <td>163</td>\n",
       "      <td>grand</td>\n",
       "      <td>125000</td>\n",
       "      <td>8</td>\n",
       "      <td>gasoline</td>\n",
       "      <td>...</td>\n",
       "      <td>0</td>\n",
       "      <td>0</td>\n",
       "      <td>0</td>\n",
       "      <td>0</td>\n",
       "      <td>0</td>\n",
       "      <td>0</td>\n",
       "      <td>0</td>\n",
       "      <td>0</td>\n",
       "      <td>1</td>\n",
       "      <td>0</td>\n",
       "    </tr>\n",
       "    <tr>\n",
       "      <td>3</td>\n",
       "      <td>2016-03-17 16:54:04</td>\n",
       "      <td>1500</td>\n",
       "      <td>petrol</td>\n",
       "      <td>2001</td>\n",
       "      <td>manual</td>\n",
       "      <td>75</td>\n",
       "      <td>golf</td>\n",
       "      <td>150000</td>\n",
       "      <td>6</td>\n",
       "      <td>petrol</td>\n",
       "      <td>...</td>\n",
       "      <td>0</td>\n",
       "      <td>0</td>\n",
       "      <td>0</td>\n",
       "      <td>0</td>\n",
       "      <td>0</td>\n",
       "      <td>0</td>\n",
       "      <td>1</td>\n",
       "      <td>0</td>\n",
       "      <td>0</td>\n",
       "      <td>0</td>\n",
       "    </tr>\n",
       "    <tr>\n",
       "      <td>4</td>\n",
       "      <td>2016-03-31 17:25:20</td>\n",
       "      <td>3600</td>\n",
       "      <td>gasoline</td>\n",
       "      <td>2008</td>\n",
       "      <td>manual</td>\n",
       "      <td>69</td>\n",
       "      <td>fabia</td>\n",
       "      <td>90000</td>\n",
       "      <td>7</td>\n",
       "      <td>gasoline</td>\n",
       "      <td>...</td>\n",
       "      <td>0</td>\n",
       "      <td>0</td>\n",
       "      <td>0</td>\n",
       "      <td>0</td>\n",
       "      <td>0</td>\n",
       "      <td>0</td>\n",
       "      <td>0</td>\n",
       "      <td>0</td>\n",
       "      <td>0</td>\n",
       "      <td>0</td>\n",
       "    </tr>\n",
       "    <tr>\n",
       "      <td>...</td>\n",
       "      <td>...</td>\n",
       "      <td>...</td>\n",
       "      <td>...</td>\n",
       "      <td>...</td>\n",
       "      <td>...</td>\n",
       "      <td>...</td>\n",
       "      <td>...</td>\n",
       "      <td>...</td>\n",
       "      <td>...</td>\n",
       "      <td>...</td>\n",
       "      <td>...</td>\n",
       "      <td>...</td>\n",
       "      <td>...</td>\n",
       "      <td>...</td>\n",
       "      <td>...</td>\n",
       "      <td>...</td>\n",
       "      <td>...</td>\n",
       "      <td>...</td>\n",
       "      <td>...</td>\n",
       "      <td>...</td>\n",
       "      <td>...</td>\n",
       "    </tr>\n",
       "    <tr>\n",
       "      <td>354363</td>\n",
       "      <td>2016-03-27 20:36:20</td>\n",
       "      <td>1150</td>\n",
       "      <td>petrol</td>\n",
       "      <td>2000</td>\n",
       "      <td>manual</td>\n",
       "      <td>0</td>\n",
       "      <td>zafira</td>\n",
       "      <td>150000</td>\n",
       "      <td>3</td>\n",
       "      <td>petrol</td>\n",
       "      <td>...</td>\n",
       "      <td>0</td>\n",
       "      <td>0</td>\n",
       "      <td>0</td>\n",
       "      <td>0</td>\n",
       "      <td>0</td>\n",
       "      <td>0</td>\n",
       "      <td>0</td>\n",
       "      <td>0</td>\n",
       "      <td>0</td>\n",
       "      <td>0</td>\n",
       "    </tr>\n",
       "    <tr>\n",
       "      <td>354365</td>\n",
       "      <td>2016-03-14 17:48:27</td>\n",
       "      <td>2200</td>\n",
       "      <td>no_info</td>\n",
       "      <td>2005</td>\n",
       "      <td>no_info</td>\n",
       "      <td>0</td>\n",
       "      <td>no_info</td>\n",
       "      <td>20000</td>\n",
       "      <td>1</td>\n",
       "      <td>no_info</td>\n",
       "      <td>...</td>\n",
       "      <td>0</td>\n",
       "      <td>1</td>\n",
       "      <td>0</td>\n",
       "      <td>0</td>\n",
       "      <td>0</td>\n",
       "      <td>0</td>\n",
       "      <td>0</td>\n",
       "      <td>0</td>\n",
       "      <td>1</td>\n",
       "      <td>0</td>\n",
       "    </tr>\n",
       "    <tr>\n",
       "      <td>354366</td>\n",
       "      <td>2016-03-05 19:56:21</td>\n",
       "      <td>1199</td>\n",
       "      <td>petrol</td>\n",
       "      <td>2000</td>\n",
       "      <td>auto</td>\n",
       "      <td>101</td>\n",
       "      <td>fortwo</td>\n",
       "      <td>125000</td>\n",
       "      <td>3</td>\n",
       "      <td>petrol</td>\n",
       "      <td>...</td>\n",
       "      <td>1</td>\n",
       "      <td>0</td>\n",
       "      <td>0</td>\n",
       "      <td>0</td>\n",
       "      <td>0</td>\n",
       "      <td>0</td>\n",
       "      <td>0</td>\n",
       "      <td>0</td>\n",
       "      <td>0</td>\n",
       "      <td>0</td>\n",
       "    </tr>\n",
       "    <tr>\n",
       "      <td>354367</td>\n",
       "      <td>2016-03-19 18:57:12</td>\n",
       "      <td>9200</td>\n",
       "      <td>gasoline</td>\n",
       "      <td>1996</td>\n",
       "      <td>manual</td>\n",
       "      <td>102</td>\n",
       "      <td>transporter</td>\n",
       "      <td>150000</td>\n",
       "      <td>3</td>\n",
       "      <td>gasoline</td>\n",
       "      <td>...</td>\n",
       "      <td>0</td>\n",
       "      <td>0</td>\n",
       "      <td>0</td>\n",
       "      <td>0</td>\n",
       "      <td>0</td>\n",
       "      <td>0</td>\n",
       "      <td>1</td>\n",
       "      <td>0</td>\n",
       "      <td>0</td>\n",
       "      <td>0</td>\n",
       "    </tr>\n",
       "    <tr>\n",
       "      <td>354368</td>\n",
       "      <td>2016-03-20 19:41:08</td>\n",
       "      <td>3400</td>\n",
       "      <td>gasoline</td>\n",
       "      <td>2002</td>\n",
       "      <td>manual</td>\n",
       "      <td>100</td>\n",
       "      <td>golf</td>\n",
       "      <td>150000</td>\n",
       "      <td>6</td>\n",
       "      <td>gasoline</td>\n",
       "      <td>...</td>\n",
       "      <td>0</td>\n",
       "      <td>0</td>\n",
       "      <td>0</td>\n",
       "      <td>0</td>\n",
       "      <td>0</td>\n",
       "      <td>0</td>\n",
       "      <td>1</td>\n",
       "      <td>0</td>\n",
       "      <td>1</td>\n",
       "      <td>0</td>\n",
       "    </tr>\n",
       "  </tbody>\n",
       "</table>\n",
       "<p>323224 rows × 324 columns</p>\n",
       "</div>"
      ],
      "text/plain": [
       "                DateCrawled  Price VehicleType  RegistrationYear  Gearbox  \\\n",
       "0       2016-03-24 11:52:17    480      petrol              1993   manual   \n",
       "1       2016-03-24 10:58:45  18300    gasoline              2011   manual   \n",
       "2       2016-03-14 12:52:21   9800    gasoline              2004     auto   \n",
       "3       2016-03-17 16:54:04   1500      petrol              2001   manual   \n",
       "4       2016-03-31 17:25:20   3600    gasoline              2008   manual   \n",
       "...                     ...    ...         ...               ...      ...   \n",
       "354363  2016-03-27 20:36:20   1150      petrol              2000   manual   \n",
       "354365  2016-03-14 17:48:27   2200     no_info              2005  no_info   \n",
       "354366  2016-03-05 19:56:21   1199      petrol              2000     auto   \n",
       "354367  2016-03-19 18:57:12   9200    gasoline              1996   manual   \n",
       "354368  2016-03-20 19:41:08   3400    gasoline              2002   manual   \n",
       "\n",
       "        Power        Model  Kilometer  RegistrationMonth  FuelType  ...  \\\n",
       "0           0         golf     150000                  0    petrol  ...   \n",
       "1         190      no_info     125000                  5  gasoline  ...   \n",
       "2         163        grand     125000                  8  gasoline  ...   \n",
       "3          75         golf     150000                  6    petrol  ...   \n",
       "4          69        fabia      90000                  7  gasoline  ...   \n",
       "...       ...          ...        ...                ...       ...  ...   \n",
       "354363      0       zafira     150000                  3    petrol  ...   \n",
       "354365      0      no_info      20000                  1   no_info  ...   \n",
       "354366    101       fortwo     125000                  3    petrol  ...   \n",
       "354367    102  transporter     150000                  3  gasoline  ...   \n",
       "354368    100         golf     150000                  6  gasoline  ...   \n",
       "\n",
       "       Brand_smart Brand_sonstige_autos Brand_subaru  Brand_suzuki  \\\n",
       "0                0                    0            0             0   \n",
       "1                0                    0            0             0   \n",
       "2                0                    0            0             0   \n",
       "3                0                    0            0             0   \n",
       "4                0                    0            0             0   \n",
       "...            ...                  ...          ...           ...   \n",
       "354363           0                    0            0             0   \n",
       "354365           0                    1            0             0   \n",
       "354366           1                    0            0             0   \n",
       "354367           0                    0            0             0   \n",
       "354368           0                    0            0             0   \n",
       "\n",
       "        Brand_toyota Brand_trabant  Brand_volkswagen  Brand_volvo  \\\n",
       "0                  0             0                 1            0   \n",
       "1                  0             0                 0            0   \n",
       "2                  0             0                 0            0   \n",
       "3                  0             0                 1            0   \n",
       "4                  0             0                 0            0   \n",
       "...              ...           ...               ...          ...   \n",
       "354363             0             0                 0            0   \n",
       "354365             0             0                 0            0   \n",
       "354366             0             0                 0            0   \n",
       "354367             0             0                 1            0   \n",
       "354368             0             0                 1            0   \n",
       "\n",
       "        NotRepaired_no_info  NotRepaired_yes  \n",
       "0                         1                0  \n",
       "1                         0                1  \n",
       "2                         1                0  \n",
       "3                         0                0  \n",
       "4                         0                0  \n",
       "...                     ...              ...  \n",
       "354363                    0                0  \n",
       "354365                    1                0  \n",
       "354366                    0                0  \n",
       "354367                    0                0  \n",
       "354368                    1                0  \n",
       "\n",
       "[323224 rows x 324 columns]"
      ]
     },
     "execution_count": 11,
     "metadata": {},
     "output_type": "execute_result"
    }
   ],
   "source": [
    "features_ohe = pd.get_dummies(data[['VehicleType','Gearbox','Model','FuelType','Brand','NotRepaired']], drop_first = True)\n",
    "data[features_ohe.columns] = features_ohe\n",
    "data"
   ]
  },
  {
   "cell_type": "code",
   "execution_count": 12,
   "metadata": {},
   "outputs": [
    {
     "data": {
      "text/plain": [
       "['RegistrationYear',\n",
       " 'Power',\n",
       " 'Kilometer',\n",
       " 'RegistrationMonth',\n",
       " 'NumberOfPictures',\n",
       " 'time_in_use',\n",
       " 'VehicleType_electric',\n",
       " 'VehicleType_gasoline',\n",
       " 'VehicleType_hybrid',\n",
       " 'VehicleType_lpg',\n",
       " 'VehicleType_no_info',\n",
       " 'VehicleType_other',\n",
       " 'VehicleType_petrol',\n",
       " 'Gearbox_manual',\n",
       " 'Gearbox_no_info',\n",
       " 'Model_145',\n",
       " 'Model_147',\n",
       " 'Model_156',\n",
       " 'Model_159',\n",
       " 'Model_1_reihe',\n",
       " 'Model_1er',\n",
       " 'Model_200',\n",
       " 'Model_2_reihe',\n",
       " 'Model_300c',\n",
       " 'Model_3_reihe',\n",
       " 'Model_3er',\n",
       " 'Model_4_reihe',\n",
       " 'Model_500',\n",
       " 'Model_5_reihe',\n",
       " 'Model_5er',\n",
       " 'Model_601',\n",
       " 'Model_6_reihe',\n",
       " 'Model_6er',\n",
       " 'Model_7er',\n",
       " 'Model_80',\n",
       " 'Model_850',\n",
       " 'Model_90',\n",
       " 'Model_900',\n",
       " 'Model_9000',\n",
       " 'Model_911',\n",
       " 'Model_a1',\n",
       " 'Model_a2',\n",
       " 'Model_a3',\n",
       " 'Model_a4',\n",
       " 'Model_a5',\n",
       " 'Model_a6',\n",
       " 'Model_a8',\n",
       " 'Model_a_klasse',\n",
       " 'Model_accord',\n",
       " 'Model_agila',\n",
       " 'Model_alhambra',\n",
       " 'Model_almera',\n",
       " 'Model_altea',\n",
       " 'Model_amarok',\n",
       " 'Model_antara',\n",
       " 'Model_arosa',\n",
       " 'Model_astra',\n",
       " 'Model_auris',\n",
       " 'Model_avensis',\n",
       " 'Model_aveo',\n",
       " 'Model_aygo',\n",
       " 'Model_b_klasse',\n",
       " 'Model_b_max',\n",
       " 'Model_beetle',\n",
       " 'Model_berlingo',\n",
       " 'Model_bora',\n",
       " 'Model_boxster',\n",
       " 'Model_bravo',\n",
       " 'Model_c1',\n",
       " 'Model_c2',\n",
       " 'Model_c3',\n",
       " 'Model_c4',\n",
       " 'Model_c5',\n",
       " 'Model_c_klasse',\n",
       " 'Model_c_max',\n",
       " 'Model_c_reihe',\n",
       " 'Model_caddy',\n",
       " 'Model_calibra',\n",
       " 'Model_captiva',\n",
       " 'Model_carisma',\n",
       " 'Model_carnival',\n",
       " 'Model_cayenne',\n",
       " 'Model_cc',\n",
       " 'Model_ceed',\n",
       " 'Model_charade',\n",
       " 'Model_cherokee',\n",
       " 'Model_citigo',\n",
       " 'Model_civic',\n",
       " 'Model_cl',\n",
       " 'Model_clio',\n",
       " 'Model_clk',\n",
       " 'Model_clubman',\n",
       " 'Model_colt',\n",
       " 'Model_combo',\n",
       " 'Model_cooper',\n",
       " 'Model_cordoba',\n",
       " 'Model_corolla',\n",
       " 'Model_corsa',\n",
       " 'Model_cr_reihe',\n",
       " 'Model_croma',\n",
       " 'Model_crossfire',\n",
       " 'Model_cuore',\n",
       " 'Model_cx_reihe',\n",
       " 'Model_defender',\n",
       " 'Model_delta',\n",
       " 'Model_discovery',\n",
       " 'Model_doblo',\n",
       " 'Model_ducato',\n",
       " 'Model_duster',\n",
       " 'Model_e_klasse',\n",
       " 'Model_elefantino',\n",
       " 'Model_eos',\n",
       " 'Model_escort',\n",
       " 'Model_espace',\n",
       " 'Model_exeo',\n",
       " 'Model_fabia',\n",
       " 'Model_fiesta',\n",
       " 'Model_focus',\n",
       " 'Model_forester',\n",
       " 'Model_forfour',\n",
       " 'Model_fortwo',\n",
       " 'Model_fox',\n",
       " 'Model_freelander',\n",
       " 'Model_fusion',\n",
       " 'Model_g_klasse',\n",
       " 'Model_galant',\n",
       " 'Model_galaxy',\n",
       " 'Model_getz',\n",
       " 'Model_gl',\n",
       " 'Model_glk',\n",
       " 'Model_golf',\n",
       " 'Model_grand',\n",
       " 'Model_i3',\n",
       " 'Model_i_reihe',\n",
       " 'Model_ibiza',\n",
       " 'Model_impreza',\n",
       " 'Model_insignia',\n",
       " 'Model_jazz',\n",
       " 'Model_jetta',\n",
       " 'Model_jimny',\n",
       " 'Model_juke',\n",
       " 'Model_justy',\n",
       " 'Model_ka',\n",
       " 'Model_kadett',\n",
       " 'Model_kaefer',\n",
       " 'Model_kalina',\n",
       " 'Model_kalos',\n",
       " 'Model_kangoo',\n",
       " 'Model_kappa',\n",
       " 'Model_kuga',\n",
       " 'Model_laguna',\n",
       " 'Model_lancer',\n",
       " 'Model_lanos',\n",
       " 'Model_legacy',\n",
       " 'Model_leon',\n",
       " 'Model_lodgy',\n",
       " 'Model_logan',\n",
       " 'Model_lupo',\n",
       " 'Model_lybra',\n",
       " 'Model_m_klasse',\n",
       " 'Model_m_reihe',\n",
       " 'Model_materia',\n",
       " 'Model_matiz',\n",
       " 'Model_megane',\n",
       " 'Model_meriva',\n",
       " 'Model_micra',\n",
       " 'Model_mii',\n",
       " 'Model_modus',\n",
       " 'Model_mondeo',\n",
       " 'Model_move',\n",
       " 'Model_musa',\n",
       " 'Model_mustang',\n",
       " 'Model_mx_reihe',\n",
       " 'Model_navara',\n",
       " 'Model_niva',\n",
       " 'Model_no_info',\n",
       " 'Model_note',\n",
       " 'Model_nubira',\n",
       " 'Model_octavia',\n",
       " 'Model_omega',\n",
       " 'Model_one',\n",
       " 'Model_other',\n",
       " 'Model_outlander',\n",
       " 'Model_pajero',\n",
       " 'Model_panda',\n",
       " 'Model_passat',\n",
       " 'Model_phaeton',\n",
       " 'Model_picanto',\n",
       " 'Model_polo',\n",
       " 'Model_primera',\n",
       " 'Model_ptcruiser',\n",
       " 'Model_punto',\n",
       " 'Model_q3',\n",
       " 'Model_q5',\n",
       " 'Model_q7',\n",
       " 'Model_qashqai',\n",
       " 'Model_r19',\n",
       " 'Model_range_rover',\n",
       " 'Model_range_rover_evoque',\n",
       " 'Model_range_rover_sport',\n",
       " 'Model_rangerover',\n",
       " 'Model_rav',\n",
       " 'Model_rio',\n",
       " 'Model_roadster',\n",
       " 'Model_roomster',\n",
       " 'Model_rx_reihe',\n",
       " 'Model_s60',\n",
       " 'Model_s_klasse',\n",
       " 'Model_s_max',\n",
       " 'Model_s_type',\n",
       " 'Model_samara',\n",
       " 'Model_sandero',\n",
       " 'Model_santa',\n",
       " 'Model_scenic',\n",
       " 'Model_scirocco',\n",
       " 'Model_seicento',\n",
       " 'Model_serie_1',\n",
       " 'Model_serie_2',\n",
       " 'Model_serie_3',\n",
       " 'Model_sharan',\n",
       " 'Model_signum',\n",
       " 'Model_sirion',\n",
       " 'Model_sl',\n",
       " 'Model_slk',\n",
       " 'Model_sorento',\n",
       " 'Model_spark',\n",
       " 'Model_spider',\n",
       " 'Model_sportage',\n",
       " 'Model_sprinter',\n",
       " 'Model_stilo',\n",
       " 'Model_superb',\n",
       " 'Model_swift',\n",
       " 'Model_terios',\n",
       " 'Model_tigra',\n",
       " 'Model_tiguan',\n",
       " 'Model_toledo',\n",
       " 'Model_touareg',\n",
       " 'Model_touran',\n",
       " 'Model_transit',\n",
       " 'Model_transporter',\n",
       " 'Model_tt',\n",
       " 'Model_tucson',\n",
       " 'Model_twingo',\n",
       " 'Model_up',\n",
       " 'Model_v40',\n",
       " 'Model_v50',\n",
       " 'Model_v60',\n",
       " 'Model_v70',\n",
       " 'Model_v_klasse',\n",
       " 'Model_vectra',\n",
       " 'Model_verso',\n",
       " 'Model_viano',\n",
       " 'Model_vito',\n",
       " 'Model_vivaro',\n",
       " 'Model_voyager',\n",
       " 'Model_wrangler',\n",
       " 'Model_x_reihe',\n",
       " 'Model_x_trail',\n",
       " 'Model_x_type',\n",
       " 'Model_xc_reihe',\n",
       " 'Model_yaris',\n",
       " 'Model_yeti',\n",
       " 'Model_ypsilon',\n",
       " 'Model_z_reihe',\n",
       " 'Model_zafira',\n",
       " 'FuelType_electric',\n",
       " 'FuelType_gasoline',\n",
       " 'FuelType_hybrid',\n",
       " 'FuelType_lpg',\n",
       " 'FuelType_no_info',\n",
       " 'FuelType_other',\n",
       " 'FuelType_petrol',\n",
       " 'Brand_audi',\n",
       " 'Brand_bmw',\n",
       " 'Brand_chevrolet',\n",
       " 'Brand_chrysler',\n",
       " 'Brand_citroen',\n",
       " 'Brand_dacia',\n",
       " 'Brand_daewoo',\n",
       " 'Brand_daihatsu',\n",
       " 'Brand_fiat',\n",
       " 'Brand_ford',\n",
       " 'Brand_honda',\n",
       " 'Brand_hyundai',\n",
       " 'Brand_jaguar',\n",
       " 'Brand_jeep',\n",
       " 'Brand_kia',\n",
       " 'Brand_lada',\n",
       " 'Brand_lancia',\n",
       " 'Brand_land_rover',\n",
       " 'Brand_mazda',\n",
       " 'Brand_mercedes_benz',\n",
       " 'Brand_mini',\n",
       " 'Brand_mitsubishi',\n",
       " 'Brand_nissan',\n",
       " 'Brand_opel',\n",
       " 'Brand_peugeot',\n",
       " 'Brand_porsche',\n",
       " 'Brand_renault',\n",
       " 'Brand_rover',\n",
       " 'Brand_saab',\n",
       " 'Brand_seat',\n",
       " 'Brand_skoda',\n",
       " 'Brand_smart',\n",
       " 'Brand_sonstige_autos',\n",
       " 'Brand_subaru',\n",
       " 'Brand_suzuki',\n",
       " 'Brand_toyota',\n",
       " 'Brand_trabant',\n",
       " 'Brand_volkswagen',\n",
       " 'Brand_volvo',\n",
       " 'NotRepaired_no_info',\n",
       " 'NotRepaired_yes']"
      ]
     },
     "execution_count": 12,
     "metadata": {},
     "output_type": "execute_result"
    }
   ],
   "source": [
    "features_columns = ['RegistrationYear','Power','Kilometer','RegistrationMonth','NumberOfPictures','time_in_use'] + list(features_ohe.columns)\n",
    "features_columns"
   ]
  },
  {
   "cell_type": "markdown",
   "metadata": {},
   "source": [
    "Графы: DateCrawled, PostalCode и LastSeen, я не беру в критерии от которых зивисит цена машины, так как информация не касающаяся машины не влияет на её цену.\n",
    "Графу DateCreated, я заменил на графу показывающею сколько лет машина была в экспулатации до выставления на продажу."
   ]
  },
  {
   "cell_type": "code",
   "execution_count": 13,
   "metadata": {},
   "outputs": [
    {
     "name": "stdout",
     "output_type": "stream",
     "text": [
      "<class 'pandas.core.frame.DataFrame'>\n",
      "Int64Index: 323224 entries, 0 to 354368\n",
      "Columns: 324 entries, DateCrawled to NotRepaired_yes\n",
      "dtypes: int64(8), object(9), uint8(307)\n",
      "memory usage: 139.0+ MB\n"
     ]
    }
   ],
   "source": [
    "data.info()"
   ]
  },
  {
   "cell_type": "code",
   "execution_count": 14,
   "metadata": {},
   "outputs": [],
   "source": [
    "target = data['Price']\n",
    "features = data[features_columns]\n",
    "features_train, features_valid, target_train, target_valid = train_test_split(\n",
    "    features, target, test_size=0.25, random_state=12345)\n",
    "features_train_no_ohe, features_valid_no_ohe, target_train_no_ohe, target_valid_no_ohe = train_test_split(\n",
    "    features_no_ohe, target_no_ohe, test_size=0.25, random_state=12345)"
   ]
  },
  {
   "cell_type": "markdown",
   "metadata": {},
   "source": [
    "# 2. Обучение моделей"
   ]
  },
  {
   "cell_type": "code",
   "execution_count": 15,
   "metadata": {},
   "outputs": [],
   "source": [
    "def score(model, target = target_train, features = features_train):\n",
    "    start_time = timeit.default_timer()\n",
    "    score = mean_squared_error(target, model.predict(features))**(1/2)\n",
    "    predict_time = timeit.default_timer() - start_time\n",
    "    return score, predict_time\n",
    "def fit(model):\n",
    "    start_time = timeit.default_timer()\n",
    "    model.fit(features_train,target_train)\n",
    "    fit_time = timeit.default_timer() - start_time\n",
    "    return fit_time"
   ]
  },
  {
   "cell_type": "markdown",
   "metadata": {},
   "source": [
    "## CatBoostRegressor_no_ohe"
   ]
  },
  {
   "cell_type": "code",
   "execution_count": 19,
   "metadata": {},
   "outputs": [
    {
     "name": "stderr",
     "output_type": "stream",
     "text": [
      "/opt/conda/lib/python3.7/site-packages/sklearn/model_selection/_split.py:1978: FutureWarning: The default value of cv will change from 3 to 5 in version 0.22. Specify it explicitly to silence this warning.\n",
      "  warnings.warn(CV_WARNING, FutureWarning)\n"
     ]
    },
    {
     "data": {
      "text/plain": [
       "{'iterations': 100, 'learning_rate': 0.6000000000000001}"
      ]
     },
     "execution_count": 19,
     "metadata": {},
     "output_type": "execute_result"
    }
   ],
   "source": [
    "parametrs = { 'learning_rate': [0.1*i for i in range(5,11)],\n",
    "              'iterations': range(60,110,10),}\n",
    "cats = CatBoostRegressor()\n",
    "grid = GridSearchCV(cats, parametrs)\n",
    "grid.fit(features_valid_no_ohe,target_valid_no_ohe, silent= True, cat_features = ['VehicleType','Gearbox','Model','FuelType','Brand','NotRepaired'])\n",
    "grid.best_params_"
   ]
  },
  {
   "cell_type": "code",
   "execution_count": 20,
   "metadata": {},
   "outputs": [
    {
     "name": "stdout",
     "output_type": "stream",
     "text": [
      "время обучения: 59.59664465300739\n",
      "RMSE score: 1509.3750414435676\n",
      "время предсказания: 0.9507800182327628\n"
     ]
    }
   ],
   "source": [
    "cat_no_ohe = CatBoostRegressor(iterations = 100, learning_rate = 0.6000000000000001, depth = 10)\n",
    "start_time = timeit.default_timer()\n",
    "cat_no_ohe.fit(features_train_no_ohe,target_train_no_ohe, silent= True, cat_features = ['VehicleType','Gearbox','Model','FuelType','Brand','NotRepaired'])\n",
    "cat_no_ohe_fit_time = timeit.default_timer() - start_time\n",
    "print('время обучения:', cat_no_ohe_fit_time)\n",
    "Score, time  = score(cat_no_ohe,target_train_no_ohe, features_train_no_ohe)\n",
    "print('RMSE score:', Score)\n",
    "print('время предсказания:', time)"
   ]
  },
  {
   "cell_type": "markdown",
   "metadata": {},
   "source": [
    "## CatBoostRegressor "
   ]
  },
  {
   "cell_type": "code",
   "execution_count": 21,
   "metadata": {},
   "outputs": [
    {
     "name": "stdout",
     "output_type": "stream",
     "text": [
      "время обучения: 92.6651452369988\n",
      "RMSE score: 1842.074618057925\n",
      "время предсказания: 0.40655714366585016\n"
     ]
    }
   ],
   "source": [
    "#%%time\n",
    "cat = CatBoostRegressor(iterations = 500)\n",
    "start_time = timeit.default_timer()\n",
    "cat.fit(features_train,target_train, silent= True)\n",
    "cat_fit_time = timeit.default_timer() - start_time\n",
    "print('время обучения:', cat_fit_time)\n",
    "Score, time  = score(cat)\n",
    "print('RMSE score:', Score)\n",
    "print('время предсказания:', time)"
   ]
  },
  {
   "cell_type": "markdown",
   "metadata": {},
   "source": [
    "## LGBMRegressor"
   ]
  },
  {
   "cell_type": "code",
   "execution_count": 22,
   "metadata": {},
   "outputs": [
    {
     "name": "stdout",
     "output_type": "stream",
     "text": [
      "время обучения: 20.079794286750257\n",
      "RMSE score: 1610.2658693276849\n",
      "время предсказания: 7.4046037988737226\n"
     ]
    }
   ],
   "source": [
    "LGBM = LGBMRegressor(iterations = 5, num_leaves = 60, n_estimators=150 )\n",
    "LGBM_fit_time = fit(LGBM)\n",
    "print('время обучения:', LGBM_fit_time)\n",
    "Score, time  = score(LGBM)\n",
    "print('RMSE score:', Score)\n",
    "print('время предсказания:', time)"
   ]
  },
  {
   "cell_type": "markdown",
   "metadata": {},
   "source": [
    "## DummyRegressor"
   ]
  },
  {
   "cell_type": "code",
   "execution_count": 23,
   "metadata": {},
   "outputs": [
    {
     "name": "stdout",
     "output_type": "stream",
     "text": [
      "время обучения: 0.00428478978574276\n",
      "RMSE score: 4860.020907973153\n",
      "время предсказания: 0.002259279601275921\n"
     ]
    }
   ],
   "source": [
    "dummy_regr = DummyRegressor(strategy=\"median\")\n",
    "dummy_regr_fit_time = fit(dummy_regr)\n",
    "print('время обучения:', dummy_regr_fit_time)\n",
    "Score, time  = score(dummy_regr)\n",
    "print('RMSE score:', Score)\n",
    "print('время предсказания:', time)"
   ]
  },
  {
   "cell_type": "markdown",
   "metadata": {},
   "source": [
    "## LinearRegression"
   ]
  },
  {
   "cell_type": "code",
   "execution_count": 24,
   "metadata": {},
   "outputs": [
    {
     "name": "stdout",
     "output_type": "stream",
     "text": [
      "время обучения: 26.36878447048366\n",
      "RMSE score: 2897.383156746465\n",
      "время предсказания: 0.7032305020838976\n"
     ]
    }
   ],
   "source": [
    "LinearRegr = LinearRegression()\n",
    "LinearRegr_fit_time = fit(LinearRegr)\n",
    "print('время обучения:', LinearRegr_fit_time)\n",
    "Score, time  = score(LinearRegr)\n",
    "print('RMSE score:', Score)\n",
    "print('время предсказания:', time)"
   ]
  },
  {
   "cell_type": "markdown",
   "metadata": {},
   "source": [
    "# 3. Анализ моделей"
   ]
  },
  {
   "cell_type": "markdown",
   "metadata": {},
   "source": [
    "## LinearRegression"
   ]
  },
  {
   "cell_type": "code",
   "execution_count": 25,
   "metadata": {},
   "outputs": [
    {
     "name": "stdout",
     "output_type": "stream",
     "text": [
      "RMSE score: 2883.5556196208004\n",
      "время предсказания: 0.1990299802273512\n"
     ]
    }
   ],
   "source": [
    "LinearRegr_score, LinearRegr_time  = score(LinearRegr,target = target_valid,features = features_valid )\n",
    "print('RMSE score:', LinearRegr_score)\n",
    "print('время предсказания:', LinearRegr_time)"
   ]
  },
  {
   "cell_type": "markdown",
   "metadata": {},
   "source": [
    "## LGBMRegressor"
   ]
  },
  {
   "cell_type": "code",
   "execution_count": 26,
   "metadata": {},
   "outputs": [
    {
     "name": "stdout",
     "output_type": "stream",
     "text": [
      "RMSE score: 1672.8490518554756\n",
      "время предсказания: 2.5060295034199953\n"
     ]
    }
   ],
   "source": [
    "LGBM_score, LGBM_time  = score(LGBM,target = target_valid,features = features_valid )\n",
    "print('RMSE score:', LGBM_score)\n",
    "print('время предсказания:', LGBM_time)"
   ]
  },
  {
   "cell_type": "markdown",
   "metadata": {},
   "source": [
    "лучше всего показала себя как на тестовой выборке, так и на обучающей"
   ]
  },
  {
   "cell_type": "markdown",
   "metadata": {},
   "source": [
    "## CatBoostRegressor"
   ]
  },
  {
   "cell_type": "code",
   "execution_count": 27,
   "metadata": {},
   "outputs": [
    {
     "name": "stdout",
     "output_type": "stream",
     "text": [
      "RMSE score: 1865.1447632112015\n",
      "время предсказания: 0.1879817796871066\n"
     ]
    }
   ],
   "source": [
    "cat_score, cat_time  = score(cat,target = target_valid,features = features_valid )\n",
    "print('RMSE score:', cat_score)\n",
    "print('время предсказания:', cat_time)"
   ]
  },
  {
   "cell_type": "markdown",
   "metadata": {},
   "source": [
    "показала себя хуже предыдущей модели, но лучше дамми модели\n"
   ]
  },
  {
   "cell_type": "markdown",
   "metadata": {},
   "source": [
    "## CatBoostRegressor_no_ohe"
   ]
  },
  {
   "cell_type": "code",
   "execution_count": 28,
   "metadata": {},
   "outputs": [
    {
     "name": "stdout",
     "output_type": "stream",
     "text": [
      "RMSE score: 1681.4196477558974\n",
      "время предсказания: 0.38633723463863134\n"
     ]
    }
   ],
   "source": [
    "cat_no_ohe_score, cat_no_ohe_time  = score(cat_no_ohe,target = target_valid_no_ohe,features = features_valid_no_ohe )\n",
    "print('RMSE score:', cat_no_ohe_score)\n",
    "print('время предсказания:', cat_no_ohe_time)"
   ]
  },
  {
   "cell_type": "markdown",
   "metadata": {},
   "source": [
    "# Сравнение моделей"
   ]
  },
  {
   "cell_type": "code",
   "execution_count": 29,
   "metadata": {},
   "outputs": [
    {
     "data": {
      "text/html": [
       "<div>\n",
       "<style scoped>\n",
       "    .dataframe tbody tr th:only-of-type {\n",
       "        vertical-align: middle;\n",
       "    }\n",
       "\n",
       "    .dataframe tbody tr th {\n",
       "        vertical-align: top;\n",
       "    }\n",
       "\n",
       "    .dataframe thead th {\n",
       "        text-align: right;\n",
       "    }\n",
       "</style>\n",
       "<table border=\"1\" class=\"dataframe\">\n",
       "  <thead>\n",
       "    <tr style=\"text-align: right;\">\n",
       "      <th></th>\n",
       "      <th>RMSE_score</th>\n",
       "      <th>predict_time</th>\n",
       "      <th>fit_time</th>\n",
       "      <th>total_time</th>\n",
       "    </tr>\n",
       "  </thead>\n",
       "  <tbody>\n",
       "    <tr>\n",
       "      <td>LinearRegression</td>\n",
       "      <td>2883.555620</td>\n",
       "      <td>0.199030</td>\n",
       "      <td>26.368784</td>\n",
       "      <td>26.567814</td>\n",
       "    </tr>\n",
       "    <tr>\n",
       "      <td>LGBMRegressor</td>\n",
       "      <td>1672.849052</td>\n",
       "      <td>2.506030</td>\n",
       "      <td>20.079794</td>\n",
       "      <td>22.585824</td>\n",
       "    </tr>\n",
       "    <tr>\n",
       "      <td>CatBoostRegressor</td>\n",
       "      <td>1865.144763</td>\n",
       "      <td>0.187982</td>\n",
       "      <td>92.665145</td>\n",
       "      <td>92.853127</td>\n",
       "    </tr>\n",
       "    <tr>\n",
       "      <td>CatBoostRegressor_no_ohe</td>\n",
       "      <td>1681.419648</td>\n",
       "      <td>0.386337</td>\n",
       "      <td>59.596645</td>\n",
       "      <td>59.982982</td>\n",
       "    </tr>\n",
       "  </tbody>\n",
       "</table>\n",
       "</div>"
      ],
      "text/plain": [
       "                           RMSE_score  predict_time   fit_time  total_time\n",
       "LinearRegression          2883.555620      0.199030  26.368784   26.567814\n",
       "LGBMRegressor             1672.849052      2.506030  20.079794   22.585824\n",
       "CatBoostRegressor         1865.144763      0.187982  92.665145   92.853127\n",
       "CatBoostRegressor_no_ohe  1681.419648      0.386337  59.596645   59.982982"
      ]
     },
     "execution_count": 29,
     "metadata": {},
     "output_type": "execute_result"
    }
   ],
   "source": [
    "columns = ['RMSE_score','predict_time','fit_time', 'total_time']\n",
    "index = ['LinearRegression','LGBMRegressor','CatBoostRegressor','CatBoostRegressor_no_ohe']\n",
    "final_data = [[LinearRegr_score,LinearRegr_time,LinearRegr_fit_time,LinearRegr_time + LinearRegr_fit_time],\n",
    "              [LGBM_score,LGBM_time,LGBM_fit_time,LGBM_time + LGBM_fit_time],\n",
    "             [cat_score,cat_time,cat_fit_time,cat_time + cat_fit_time],\n",
    "              [cat_no_ohe_score,cat_no_ohe_time,cat_no_ohe_fit_time,cat_no_ohe_time + cat_no_ohe_fit_time]]\n",
    "pd.DataFrame(columns = columns, index = index, data = final_data)"
   ]
  },
  {
   "cell_type": "markdown",
   "metadata": {},
   "source": [
    "модель LGBMRegressor показывает лучших результат по качеству, но проваливаетcя по времени предсказания, обучается быстро. Модель LinearRegression предсказывает и учится быстрее, но предсказываеь хуже всего. CatBoostRegressor_no_ohe учится не самым быстрым образом, показывает хорошую скорость скорость предсказания и хороший результат, является фаворитом."
   ]
  }
 ],
 "metadata": {
  "kernelspec": {
   "display_name": "Python 3",
   "language": "python",
   "name": "python3"
  },
  "language_info": {
   "codemirror_mode": {
    "name": "ipython",
    "version": 3
   },
   "file_extension": ".py",
   "mimetype": "text/x-python",
   "name": "python",
   "nbconvert_exporter": "python",
   "pygments_lexer": "ipython3",
   "version": "3.8.6"
  }
 },
 "nbformat": 4,
 "nbformat_minor": 2
}
